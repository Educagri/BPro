{
 "cells": [
  {
   "cell_type": "markdown",
   "metadata": {},
   "source": [
    "<center><img src=\"images/MD1Ex14.png\"></center>\n",
    "\n",
    "Durant l'été, un jardinier stocke dans un bac les déchets verts de son jardin. Chaque jour, pendant la journée, ses déchets perdent 10% de leur masse par évaporation de leur eau et décomposition. Chaque jour, à la fin de la journée, le jardinier dépose 20 kg de déchets verts dans son bac.\n",
    "Soit $u_n$  la masse de déchets verts dans le bac en fin de journée au bout de $n$  jours.\n",
    "1.\tDonner $u_0$, $u_1$ et $u_2$.\n",
    "2.\tExprimer $u_{n+1}$ en fonction de $u_n$.\n",
    "3.\tL'algorithme suivant permet de calculer la masse des déchets verts dans le bac à la fin de l’été. Compléter les pointillés.\n",
    "\n",
    "<center>\n",
    "<div style=\"width: 210px; text-align: left; padding-top:10px; padding-left:10px; padding-bottom:10px;border: 1px solid #A0A0A0;\">\n",
    "$u_n \\leftarrow ...$<br>\n",
    "$n \\leftarrow ...$<br>   \n",
    "Tant que $n < 91$ faire<br>\n",
    "&nbsp; | &nbsp;&nbsp; $u_n \\leftarrow ...$<br>\n",
    "&nbsp; | &nbsp;&nbsp; $n \\leftarrow ...$<br>    \n",
    "fin tant que<br>\n",
    "Afficher $u_n$<br>\n",
    "</div>\n",
    "</center>\n",
    "\n",
    "4.\tTraduire l’algorithme en Python et l’exécuter.\n"
   ]
  },
  {
   "cell_type": "code",
   "execution_count": 1,
   "metadata": {},
   "outputs": [],
   "source": [
    "# écrire la traduction en Python ici\n"
   ]
  },
  {
   "cell_type": "markdown",
   "metadata": {},
   "source": [
    "5.\tDonner la masse des déchets verts dans le bac à la fin de l'été."
   ]
  }
 ],
 "metadata": {
  "kernelspec": {
   "display_name": "Python 3",
   "language": "python",
   "name": "python3"
  },
  "language_info": {
   "codemirror_mode": {
    "name": "ipython",
    "version": 3
   },
   "file_extension": ".py",
   "mimetype": "text/x-python",
   "name": "python",
   "nbconvert_exporter": "python",
   "pygments_lexer": "ipython3",
   "version": "3.8.8"
  }
 },
 "nbformat": 4,
 "nbformat_minor": 2
}
